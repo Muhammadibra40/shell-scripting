{
 "cells": [
  {
   "cell_type": "markdown",
   "id": "83fa51f6-05c5-4099-b1ad-c776eabc5400",
   "metadata": {},
   "source": [
    "# ETL flow using shell"
   ]
  },
  {
   "cell_type": "markdown",
   "id": "215eb133-4735-471a-bf87-7488e46ce1dd",
   "metadata": {},
   "source": [
    "## Extracting Data"
   ]
  },
  {
   "cell_type": "markdown",
   "id": "2b815cd0-0979-4d1c-82c7-83cd19ba42a5",
   "metadata": {},
   "source": [
    "### 1- using 'cut' command to extract selected characters from a string."
   ]
  },
  {
   "cell_type": "code",
   "execution_count": null,
   "id": "381cbca1-9d4f-406f-a5e5-5c675f7d883c",
   "metadata": {},
   "outputs": [],
   "source": [
    "# getting a specified range of characters from a string using the '-'."
   ]
  },
  {
   "cell_type": "code",
   "execution_count": null,
   "id": "e2cade17-570b-48c4-87c3-077a909980cd",
   "metadata": {},
   "outputs": [],
   "source": [
    "echo \"Shell Scripting\" | cut -c1-4"
   ]
  },
  {
   "cell_type": "code",
   "execution_count": null,
   "id": "4e14d48e-c4ef-4589-b31b-00c42975724c",
   "metadata": {},
   "outputs": [],
   "source": [
    "# no need to use a double quotes for the string."
   ]
  },
  {
   "cell_type": "code",
   "execution_count": null,
   "id": "95653c8f-26d6-46fd-8e79-4263aa05dc7c",
   "metadata": {},
   "outputs": [],
   "source": [
    "echo Shell Scripting | cut -c1-4"
   ]
  },
  {
   "cell_type": "code",
   "execution_count": null,
   "id": "718a1c0c-e811-4861-a411-3cb423326cd9",
   "metadata": {},
   "outputs": [],
   "source": [
    "# getting specified non-contiguous characters using comma ','."
   ]
  },
  {
   "cell_type": "code",
   "execution_count": null,
   "id": "e8004a32-ece5-420f-93d3-d6f58328d9f3",
   "metadata": {},
   "outputs": [],
   "source": [
    "echo Shell Scripting | cut -c5,7"
   ]
  },
  {
   "cell_type": "code",
   "execution_count": null,
   "id": "49710bf5-537d-4e72-a6a8-b9b33058a83b",
   "metadata": {},
   "outputs": [],
   "source": [
    "# Extracting fields from a delimited text file."
   ]
  },
  {
   "cell_type": "code",
   "execution_count": null,
   "id": "9aea7bb9-2e68-477f-b7ff-6b26c8615464",
   "metadata": {},
   "outputs": [],
   "source": [
    "# option -d : for specifing the delimiter character in the text file.\n",
    "# option -f : for specifing the required field to be extracted."
   ]
  },
  {
   "cell_type": "code",
   "execution_count": null,
   "id": "484e7f24-c331-489d-8361-f53649bdaa5a",
   "metadata": {},
   "outputs": [],
   "source": [
    "cut -d\":\" -f1 \"/file/path\""
   ]
  },
  {
   "cell_type": "code",
   "execution_count": null,
   "id": "9bd3ee73-4341-4c32-bf49-aa30e13fb434",
   "metadata": {},
   "outputs": [],
   "source": []
  }
 ],
 "metadata": {
  "kernelspec": {
   "display_name": "Python 3 (ipykernel)",
   "language": "python",
   "name": "python3"
  },
  "language_info": {
   "codemirror_mode": {
    "name": "ipython",
    "version": 3
   },
   "file_extension": ".py",
   "mimetype": "text/x-python",
   "name": "python",
   "nbconvert_exporter": "python",
   "pygments_lexer": "ipython3",
   "version": "3.12.4"
  }
 },
 "nbformat": 4,
 "nbformat_minor": 5
}
